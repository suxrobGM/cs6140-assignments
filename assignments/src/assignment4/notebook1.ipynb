{
 "cells": [
  {
   "cell_type": "markdown",
   "metadata": {},
   "source": [
    "# CS6140 Assignment 4: Unsupervised Learning FMA data Part 1\n",
    "- Student: Sukhrobbek Ilyosbekov"
   ]
  },
  {
   "cell_type": "markdown",
   "metadata": {},
   "source": [
    "**Table of Contents**\n",
    "\n",
    "1. [Dataset Overview](#1)\n",
    "2. [Describing Features in features.csv](#2)\n",
    "3. [Describing Metadata in tracks.csv](#3)\n",
    "4. [Data Integration Plan](#4)\n",
    "5. [Genre Frequency Distribution](#5)\n",
    "\n"
   ]
  },
  {
   "cell_type": "markdown",
   "metadata": {},
   "source": [
    "## Setup\n",
    "In order to run this notebook, the following libraries should be installed:\n",
    "- scikit-learn\n",
    "- pandas\n",
    "- numpy\n",
    "- matplotlib\n",
    "- seaborn\n",
    "\n",
    "These libraries can be installed using the following command:\n",
    "```bash\n",
    "pip install pandas numpy matplotlib seaborn scikit-learn\n",
    "```"
   ]
  },
  {
   "cell_type": "code",
   "execution_count": 2,
   "metadata": {},
   "outputs": [],
   "source": [
    "import os\n",
    "import pandas as pd\n",
    "import numpy as np\n",
    "import matplotlib.pyplot as plt\n",
    "import seaborn as sns\n",
    "\n",
    "def get_data_path(relative_path: str) -> str:\n",
    "    \"\"\"\n",
    "    Get the absolute path to a file in the `dataset` directory.\n",
    "\n",
    "    Args:\n",
    "        relative_path: The path to the file relative to the `dataset` directory including the file name.\n",
    "\n",
    "    Returns:\n",
    "        The full path to the file in the `dataset` directory.\n",
    "\n",
    "    Examples:\n",
    "        >>> get_data_path(\"assignment1/boston_listings.csv\")\n",
    "        \"C:/Users/username/assignments/dataset/assignment1/boston_listings.csv\"\n",
    "    \"\"\"\n",
    "    return os.path.abspath(os.path.join(\"../../dataset\", relative_path))"
   ]
  },
  {
   "cell_type": "markdown",
   "metadata": {},
   "source": [
    "## 1. Dataset Overview <a id=\"1\"></a>"
   ]
  }
 ],
 "metadata": {
  "kernelspec": {
   "display_name": ".venv",
   "language": "python",
   "name": "python3"
  },
  "language_info": {
   "codemirror_mode": {
    "name": "ipython",
    "version": 3
   },
   "file_extension": ".py",
   "mimetype": "text/x-python",
   "name": "python",
   "nbconvert_exporter": "python",
   "pygments_lexer": "ipython3",
   "version": "3.12.2"
  }
 },
 "nbformat": 4,
 "nbformat_minor": 2
}
