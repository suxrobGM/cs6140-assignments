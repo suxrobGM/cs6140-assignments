{
 "cells": [
  {
   "cell_type": "markdown",
   "metadata": {},
   "source": [
    "## MICE: Multiple Imputation by Chained Equations"
   ]
  },
  {
   "cell_type": "code",
   "execution_count": 6,
   "metadata": {},
   "outputs": [
    {
     "name": "stdout",
     "output_type": "stream",
     "text": [
      "         A         B         C\n",
      "0  1.00000  0.999988  1.000000\n",
      "1  2.00000  2.000000  2.000000\n",
      "2  3.00005  3.000000  3.000000\n",
      "3  4.00000  4.000000  3.999993\n",
      "4  5.00000  5.000000  5.000000\n",
      "Number of iterations: 3\n"
     ]
    }
   ],
   "source": [
    "import numpy as np\n",
    "import pandas as pd\n",
    "from sklearn.experimental import enable_iterative_imputer\n",
    "from sklearn.impute import IterativeImputer\n",
    "\n",
    "# Sample dataset with missing values\n",
    "data = {\n",
    "    'A': [1, 2, np.nan, 4, 5],\n",
    "    'B': [np.nan, 2, 3, 4, 5],\n",
    "    'C': [1, 2, 3, np.nan, 5]\n",
    "}\n",
    "df = pd.DataFrame(data)\n",
    "\n",
    "# # Initialize MICE imputer\n",
    "imputer = IterativeImputer(random_state=42)\n",
    "\n",
    "\n",
    "# # Fit and transform the data\n",
    "imputed_data = imputer.fit_transform(df)\n",
    "\n",
    "# # Convert the result back to a DataFrame\n",
    "imputed_df = pd.DataFrame(imputed_data, columns=df.columns)\n",
    "\n",
    "print(imputed_df)\n",
    "print(f\"Number of iterations: {imputer.n_iter_}\")"
   ]
  },
  {
   "cell_type": "markdown",
   "metadata": {},
   "source": [
    "## KNN Imputer: imputes only numerical columns, but it can use categorical columns"
   ]
  },
  {
   "cell_type": "code",
   "execution_count": 11,
   "metadata": {},
   "outputs": [
    {
     "name": "stdout",
     "output_type": "stream",
     "text": [
      "Original Dataset:\n",
      "   Feature A Categorical Feature  Feature B\n",
      "0        1.0                   A        5.0\n",
      "1        2.0                   B        NaN\n",
      "2        NaN                   A        1.0\n",
      "3        4.0                 NaN        3.0\n",
      "\n",
      "Imputed Dataset:\n",
      "   Feature A  Feature B  Categorical Feature_A  Categorical Feature_B  \\\n",
      "0        1.0        5.0                    1.0                    0.0   \n",
      "1        2.0        3.0                    0.0                    1.0   \n",
      "2        3.0        1.0                    1.0                    0.0   \n",
      "3        4.0        3.0                    0.0                    0.0   \n",
      "\n",
      "   Categorical Feature_nan  \n",
      "0                      0.0  \n",
      "1                      0.0  \n",
      "2                      0.0  \n",
      "3                      1.0  \n"
     ]
    }
   ],
   "source": [
    "import numpy as np\n",
    "import pandas as pd\n",
    "from sklearn.impute import KNNImputer\n",
    "from sklearn.preprocessing import OneHotEncoder\n",
    "\n",
    "# Sample dataset with both numerical and categorical features and missing values\n",
    "data = {\n",
    "    'Feature A': [1.0, 2.0, np.nan, 4.0],\n",
    "    'Categorical Feature': ['A', 'B', 'A', np.nan],\n",
    "    'Feature B': [5.0, np.nan, 1.0, 3.0]\n",
    "}\n",
    "df = pd.DataFrame(data)\n",
    "\n",
    "# Display the original dataset with missing values\n",
    "print(\"Original Dataset:\")\n",
    "print(df)\n",
    "\n",
    "# One-Hot Encode the categorical feature\n",
    "encoder = OneHotEncoder(sparse_output=False, handle_unknown='ignore')\n",
    "encoded_features = encoder.fit_transform(df[['Categorical Feature']])\n",
    "encoded_feature_names = encoder.get_feature_names_out(['Categorical Feature'])\n",
    "\n",
    "# Create a new DataFrame with the encoded categorical features\n",
    "df_encoded = pd.concat([df.drop(['Categorical Feature'], axis=1), pd.DataFrame(encoded_features, columns=encoded_feature_names)], axis=1)\n",
    "\n",
    "# Initialize KNN Imputer with K=2\n",
    "imputer = KNNImputer(n_neighbors=2)\n",
    "\n",
    "# Fit and transform the dataset with the KNN imputer\n",
    "imputed_data = imputer.fit_transform(df_encoded)\n",
    "\n",
    "# Convert the result back to a DataFrame\n",
    "imputed_df = pd.DataFrame(imputed_data, columns=df_encoded.columns)\n",
    "\n",
    "# Display the imputed dataset\n",
    "print(\"\\nImputed Dataset:\")\n",
    "print(imputed_df)\n"
   ]
  },
  {
   "cell_type": "code",
   "execution_count": null,
   "metadata": {},
   "outputs": [],
   "source": []
  }
 ],
 "metadata": {
  "kernelspec": {
   "display_name": "base",
   "language": "python",
   "name": "python3"
  },
  "language_info": {
   "codemirror_mode": {
    "name": "ipython",
    "version": 3
   },
   "file_extension": ".py",
   "mimetype": "text/x-python",
   "name": "python",
   "nbconvert_exporter": "python",
   "pygments_lexer": "ipython3",
   "version": "3.9.13"
  }
 },
 "nbformat": 4,
 "nbformat_minor": 2
}
